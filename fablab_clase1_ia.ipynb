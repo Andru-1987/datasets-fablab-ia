{
  "nbformat": 4,
  "nbformat_minor": 0,
  "metadata": {
    "colab": {
      "provenance": [],
      "authorship_tag": "ABX9TyOckEHQgp7iPIXnwBmW37kf",
      "include_colab_link": true
    },
    "kernelspec": {
      "name": "python3",
      "display_name": "Python 3"
    },
    "language_info": {
      "name": "python"
    }
  },
  "cells": [
    {
      "cell_type": "markdown",
      "metadata": {
        "id": "view-in-github",
        "colab_type": "text"
      },
      "source": [
        "<a href=\"https://colab.research.google.com/github/Andru-1987/datasets-fablab-ia/blob/main/fablab_clase1_ia.ipynb\" target=\"_parent\"><img src=\"https://colab.research.google.com/assets/colab-badge.svg\" alt=\"Open In Colab\"/></a>"
      ]
    },
    {
      "cell_type": "markdown",
      "source": [
        "## Primera clase de FAB LAB\n",
        "- Intro CSV y GRAPHS"
      ],
      "metadata": {
        "id": "YmIpKouUD5xY"
      }
    },
    {
      "cell_type": "markdown",
      "source": [
        "Del siguiente enunciado ir haciendo solo lo que vimos en la clase... el resto lo terminamos la clase que viene:\n",
        "\n",
        "1. Importar el archivo nba.csv adjunto en un programa de python.\n",
        "2. Modificar el campo nombre por jugador e imprimir el dataframe.\n",
        "3. Imprimirle un mensaje al usuario en el que se le pida que indique que desea hacer: Ver todos los jugadores, ver detalle por jugador,  ver el puntaje general o graficar\n",
        "4. Si desea ver los jugadores, imprimirle solo los nombres de los jugadores.\n",
        "5. Si desea ver detalle, pedirle el nombre del jugador y mostrarle todos sus datos.\n",
        "6. Si desea ver el puntaje general, calcular la media de los puntos de los jugadores.\n",
        "7. Si quiere graficar, mostrarle el gráfico de puntos por jugador en una tamaño de 10x10 color verde con los textos indicativos."
      ],
      "metadata": {
        "id": "HjMRdijnFd5T"
      }
    },
    {
      "cell_type": "code",
      "execution_count": null,
      "metadata": {
        "id": "iPL5y2FjDzeZ"
      },
      "outputs": [],
      "source": [
        "import pandas       as pd\n",
        "import matplotlib   as plt\n",
        "import numpy        as np"
      ]
    },
    {
      "cell_type": "code",
      "source": [
        "from posixpath import sep\n",
        "nba_df_url:str = \"https://raw.githubusercontent.com/Andru-1987/datasets-fablab-ia/main/data/nba.csv\"\n",
        "nba_df  =   pd.read_csv(nba_df_url,sep=\",\")"
      ],
      "metadata": {
        "id": "HWvqAj3aD5f8"
      },
      "execution_count": null,
      "outputs": []
    },
    {
      "cell_type": "markdown",
      "source": [
        "### Primer punto de lectura del csv\n",
        "- renombrado de la columna"
      ],
      "metadata": {
        "id": "QLZxbR-GN7nN"
      }
    },
    {
      "cell_type": "code",
      "source": [
        "nba_df.rename(columns={\"nombre\":\"jugador\"},inplace=True)"
      ],
      "metadata": {
        "id": "o7MgIee-HUKA"
      },
      "execution_count": null,
      "outputs": []
    },
    {
      "cell_type": "markdown",
      "source": [
        "- _Imprimirle un mensaje al usuario en el que se le pida que indique que desea hacer: Ver todos los jugadores, ver detalle por jugador, ver el puntaje general o graficar_"
      ],
      "metadata": {
        "id": "KqV6WWFMPbbq"
      }
    },
    {
      "cell_type": "code",
      "source": [
        "class PlayersData:\n",
        "    def __init__(self,**kwargs):\n",
        "        self.db = kwargs[\"dataframe\"]\n",
        "\n",
        "\n",
        "    def __all_players(self):\n",
        "        players = set(self.db.jugador.to_list())\n",
        "        print(\"Los jugadores son: \\n\")\n",
        "        for player in list(players):\n",
        "            print(f\"* {player.upper()}\")\n",
        "        return None\n",
        "    def __detail_player(self):\n",
        "        jugador = input(\"Ingrese el jugador\")\n",
        "        return self.db[self.db[\"jugador\"] == jugador]\n",
        "\n",
        "    def __score_total(self):\n",
        "        return f\"Median Score de todo el dataset: {self.db.puntos.median()}\"\n",
        "\n",
        "    def __plot_each_player(self):\n",
        "        return (self.db\n",
        "                .groupby(by=\"jugador\")\n",
        "                .sum()\n",
        "                .sort_values('puntos')\n",
        "                .plot(y=\"puntos\",kind=\"barh\",figsize=(10,10),color=\"green\")\n",
        "                )\n",
        "\n",
        "    def __default_action(self):\n",
        "        print(\"Opcion no entendida\")\n",
        "        return None\n",
        "\n",
        "    def search_and_action(self):\n",
        "        options:dict ={\n",
        "            \"ver_jugadores\":self.__all_players,\n",
        "            \"detalle_jugador\":self.__detail_player,\n",
        "            \"puntaje_general\":self.__score_total,\n",
        "            \"graficar\":self.__plot_each_player\n",
        "        }\n",
        "\n",
        "        input_selection:str = input(\"\"\"\n",
        "        Opciones disponibles:\n",
        "            * ver_jugadores\n",
        "            * detalle_jugador\n",
        "            * puntaje_general\n",
        "            * graficar\n",
        "        \"\"\")\n",
        "\n",
        "        action = options.get(input_selection,self.__default_action)\n",
        "        return action()\n"
      ],
      "metadata": {
        "id": "bBfA94tFPgkr"
      },
      "execution_count": null,
      "outputs": []
    },
    {
      "cell_type": "code",
      "source": [
        "players = PlayersData(dataframe=nba_df)"
      ],
      "metadata": {
        "id": "P09_Hhk8XlVs"
      },
      "execution_count": null,
      "outputs": []
    },
    {
      "cell_type": "code",
      "source": [
        "players.search_and_action()"
      ],
      "metadata": {
        "colab": {
          "base_uri": "https://localhost:8080/",
          "height": 969
        },
        "id": "DhOJpKKsdFes",
        "outputId": "5b409f20-0742-4160-a871-e50e8b40a831"
      },
      "execution_count": null,
      "outputs": [
        {
          "name": "stdout",
          "output_type": "stream",
          "text": [
            "\n",
            "        Opciones disponibles:\n",
            "            * ver_jugadores\n",
            "            * detalle_jugador\n",
            "            * puntaje_general\n",
            "            * graficar\n",
            "        graficar\n"
          ]
        },
        {
          "output_type": "execute_result",
          "data": {
            "text/plain": [
              "<Axes: ylabel='jugador'>"
            ]
          },
          "metadata": {},
          "execution_count": 59
        },
        {
          "output_type": "display_data",
          "data": {
            "text/plain": [
              "<Figure size 1000x1000 with 1 Axes>"
            ],
            "image/png": "[encoded data removed]"
          },
          "metadata": {}
        }
      ]
    }
  ]
}